{
 "cells": [
  {
   "cell_type": "markdown",
   "metadata": {},
   "source": [
    "# Calvin 關注中的 Online-course..."
   ]
  },
  {
   "cell_type": "markdown",
   "metadata": {},
   "source": [
    "## English for Science, Technology, Engineering, and Mathematics\n",
    "\n",
    "by University of Pennsylvania\n",
    "\n",
    "https://www.coursera.org/learn/stem/home/welcome"
   ]
  },
  {
   "cell_type": "markdown",
   "metadata": {},
   "source": [
    "## Computational Thinking for Problem Solving\n",
    "\n",
    "by University of Pennsylvania\n",
    "\n",
    "https://www.coursera.org/learn/computational-thinking-problem-solving/home/welcome\n",
    "\n",
    "\n",
    "https://www.coursera.org/learn/computational-thinking-problem-solving/lecture/4twR7/1-1-introduction"
   ]
  },
  {
   "cell_type": "markdown",
   "metadata": {},
   "source": [
    "## Computer Science: Algorithms, Theory, and Machines\n",
    "by Princeton University\n",
    "\n",
    "https://www.coursera.org/learn/cs-algorithms-theory-machines/home/welcome"
   ]
  },
  {
   "cell_type": "markdown",
   "metadata": {},
   "source": [
    "\n",
    "## Python Programming Tutorials (Computer Science)\n",
    "33 部影片 觀看次數：2,172,846次 上次更新日期：2020年1月2日\n",
    "\n",
    "https://www.youtube.com/playlist?list=PLi01XoE8jYohWFPpC17Z-wWhPOSuh8Er-\n",
    "\n",
    "## 有關 Python 的複習以及進階，從 Allen B. Downey 的作品進入很優喔！\n",
    "http://greenteapress.com/thinkpython2/html/index.html\n",
    "\n",
    "\n",
    "[Allen B. Downey @ Wikipedia](https://en.wikipedia.org/wiki/Allen_B._Downey)\n",
    "- 這人(Allen B. Downey) 的其他作品，Think Java, Think Complexity, Think Stats, Think DSP, 是一系列的 computer science 的 指引。 值得典藏、跟隨，我再長庚資工所開的課，目前幾乎都用他的 Think 系列作為教科書，不但有 pdf, html, 還有全套的 ipynb 在 github 上面。\n",
    "- 可以以他的名字 Allen B. Downey 去 Google 一下。"
   ]
  },
  {
   "cell_type": "markdown",
   "metadata": {},
   "source": [
    "# 學士或碩士學位的課程\n",
    "https://www.coursera.org/degrees/computer-science\n"
   ]
  },
  {
   "cell_type": "markdown",
   "metadata": {},
   "source": []
  },
  {
   "cell_type": "markdown",
   "metadata": {},
   "source": []
  },
  {
   "cell_type": "markdown",
   "metadata": {},
   "source": []
  },
  {
   "cell_type": "markdown",
   "metadata": {},
   "source": []
  }
 ],
 "metadata": {
  "kernelspec": {
   "display_name": "Python 3",
   "language": "python",
   "name": "python3"
  },
  "language_info": {
   "codemirror_mode": {
    "name": "ipython",
    "version": 3
   },
   "file_extension": ".py",
   "mimetype": "text/x-python",
   "name": "python",
   "nbconvert_exporter": "python",
   "pygments_lexer": "ipython3",
   "version": "3.7.4"
  },
  "latex_envs": {
   "LaTeX_envs_menu_present": true,
   "autoclose": false,
   "autocomplete": true,
   "bibliofile": "biblio.bib",
   "cite_by": "apalike",
   "current_citInitial": 1,
   "eqLabelWithNumbers": true,
   "eqNumInitial": 1,
   "hotkeys": {
    "equation": "Ctrl-E",
    "itemize": "Ctrl-I"
   },
   "labels_anchors": false,
   "latex_user_defs": false,
   "report_style_numbering": false,
   "user_envs_cfg": false
  },
  "nbTranslate": {
   "displayLangs": [
    "zh-TW",
    "en"
   ],
   "hotkey": "alt-t",
   "langInMainMenu": true,
   "sourceLang": "en",
   "targetLang": "zh-TW",
   "useGoogleTranslate": true
  },
  "toc": {
   "base_numbering": 1,
   "nav_menu": {},
   "number_sections": true,
   "sideBar": true,
   "skip_h1_title": false,
   "title_cell": "Table of Contents",
   "title_sidebar": "Contents",
   "toc_cell": false,
   "toc_position": {},
   "toc_section_display": true,
   "toc_window_display": true
  },
  "varInspector": {
   "cols": {
    "lenName": 16,
    "lenType": 16,
    "lenVar": 40
   },
   "kernels_config": {
    "python": {
     "delete_cmd_postfix": "",
     "delete_cmd_prefix": "del ",
     "library": "var_list.py",
     "varRefreshCmd": "print(var_dic_list())"
    },
    "r": {
     "delete_cmd_postfix": ") ",
     "delete_cmd_prefix": "rm(",
     "library": "var_list.r",
     "varRefreshCmd": "cat(var_dic_list()) "
    }
   },
   "types_to_exclude": [
    "module",
    "function",
    "builtin_function_or_method",
    "instance",
    "_Feature"
   ],
   "window_display": false
  }
 },
 "nbformat": 4,
 "nbformat_minor": 2
}
