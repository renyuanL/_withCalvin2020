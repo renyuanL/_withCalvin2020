{
 "cells": [
  {
   "cell_type": "markdown",
   "metadata": {},
   "source": [
    "## 林怡君 ( Yi-Chun Lin )\n",
    "\n",
    "http://140.120.98.248/member_info.php?no=42\n",
    "\n",
    "https://www.researchgate.net/profile/Yi_Chun_Lin3\n"
   ]
  },
  {
   "cell_type": "code",
   "execution_count": null,
   "metadata": {},
   "outputs": [],
   "source": []
  },
  {
   "cell_type": "markdown",
   "metadata": {},
   "source": [
    "期刊論文：\n",
    "\n",
    "- Lin Y. C., Mullan, S. and Main, D. C. J. (2018). Use of welfare outcome information in three types of dairy farm inspection reports. Asian-Australasian Journal of Animal Science, 31(9), 1525-1534.\n",
    "\n",
    "(Use_of_welfare_outcome_information_in_three_types_.pdf)\n",
    "\n",
    "https://www.researchgate.net/publication/324504400_Use_of_welfare_outcome_information_in_three_types_of_dairy_farm_inspection_reports\n",
    "\n",
    "https://www.researchgate.net/publication/324504400_Use_of_welfare_outcome_information_in_three_types_of_dairy_farm_inspection_reports/fulltext/5b4909bfa6fdccadaec7cb23/Use-of-welfare-outcome-information-in-three-types-of-dairy-farm-inspection-reports.pdf\n",
    "\n",
    "- Lin Y. C., Mullan, S. and Main, D. C. J. (2018). Optimising lameness detection in dairy cattle by using handheld infrared thermometers. Veterinary Medicine and Science. 4(3), 218-226.\n",
    "- Lin Y. C., Chiu, C. H., Liu, H. C. and Wang, J. Y. (2018). Curcumin downregulates 8-br-cAMP-induced steroidogenesis in mouse Leydig cells by suppressing the expression of Cyp11a1 and StAR independently of the PKA-CREB pathway. Endocrine Journal. 65(8), 833-840.\n",
    "- Wood, S., Lin, Y., Knowles, T. G., & Main, D. C. J. (2015). Infrared thermometry for lesion monitoring in cattle lameness. Veterinary Record, 176(12), 308-312.\n",
    "- Heath, C.A.E., Lin, Y., Mullan, S., Browne, W.J., & Main, D. C. J. (2014). Implementing Welfare Quality® in UK assurance schemes: evaluating the challenges. Animal Welfare, 23(1), 95-107.\n",
    "- Lin Y. C., Mullan, S. and Main, D. C. J. (2013). Comparing the assessment of animal health and welfare in farm assurance scheme, organic standards and legislation. Advances in Animal Bioscience, 1, 1..\n",
    " \n",
    "研討會論文：\n",
    "\n",
    "- Lin, Y. C. and Chou, C. (2018). Animal Welfare Program in National Taiwan University. UFAW 2018 Animal Welfare Across Borders, 25th-26nd October 2018, Hong Kong, China.\n",
    "- Lin, Y. C., Yuan, Y., Su, F., Hsu, C. and Chou, C. (2016). Preliminary Study of the Veterinary Students’ Attitude in One Veterinary School in Taiwan toward Animal Welfare. 15th Asian Association of Veterinary Schools Congress, 20th-22nd October 2016, Taipei, Taiwan.\n",
    "- Lin Y. C., Mullan, S. and Main, D. C. J. (2013). Novel lameness detection of using hand-held infrared thermometer. 17th International Symposium and 9th International conference on Lameness in Ruminants, 11th-14th August 2013, Bristol UK\n",
    "- Lin Y. C., Mullan, S. and Main, D. C. J. (2013). Novel lameness detection of using hand-held infrared thermometer. UFAW Animal Welfare Symposium, 4th-5th July 2013, Barcelona Spain\n",
    "- Lin Y. C., Mullan, S. and Main, D. C. J. (2013). Comparing the assessment of animal health and welfare in farm assurance scheme, organic standards and legislation. BSAS/AVTRW/WPSA/ASF Annual Conference, 16th-17th April 2013, Nottingham UK\n",
    "- Lin Y. C., Mullan, S. and Main, D. C. J. (2012). Descriptive Analysis of Comments Provided by Assessors in the report of Assured Dairy Farm Assurance Scheme. UFAW Animal Welfare Conference, 21st June 2012, York UK"
   ]
  },
  {
   "cell_type": "markdown",
   "metadata": {},
   "source": []
  },
  {
   "cell_type": "markdown",
   "metadata": {},
   "source": [
    "## Animal welfare\n",
    "\n",
    "https://en.wikipedia.org/wiki/Animal_welfare\n",
    "\n"
   ]
  }
 ],
 "metadata": {
  "kernelspec": {
   "display_name": "Python 3",
   "language": "python",
   "name": "python3"
  },
  "language_info": {
   "codemirror_mode": {
    "name": "ipython",
    "version": 3
   },
   "file_extension": ".py",
   "mimetype": "text/x-python",
   "name": "python",
   "nbconvert_exporter": "python",
   "pygments_lexer": "ipython3",
   "version": "3.7.4"
  },
  "latex_envs": {
   "LaTeX_envs_menu_present": true,
   "autoclose": false,
   "autocomplete": true,
   "bibliofile": "biblio.bib",
   "cite_by": "apalike",
   "current_citInitial": 1,
   "eqLabelWithNumbers": true,
   "eqNumInitial": 1,
   "hotkeys": {
    "equation": "Ctrl-E",
    "itemize": "Ctrl-I"
   },
   "labels_anchors": false,
   "latex_user_defs": false,
   "report_style_numbering": false,
   "user_envs_cfg": false
  },
  "nbTranslate": {
   "displayLangs": [
    "zh-TW",
    "en"
   ],
   "hotkey": "alt-t",
   "langInMainMenu": true,
   "sourceLang": "en",
   "targetLang": "zh-TW",
   "useGoogleTranslate": true
  },
  "toc": {
   "base_numbering": 1,
   "nav_menu": {},
   "number_sections": true,
   "sideBar": true,
   "skip_h1_title": false,
   "title_cell": "Table of Contents",
   "title_sidebar": "Contents",
   "toc_cell": false,
   "toc_position": {},
   "toc_section_display": true,
   "toc_window_display": false
  },
  "varInspector": {
   "cols": {
    "lenName": 16,
    "lenType": 16,
    "lenVar": 40
   },
   "kernels_config": {
    "python": {
     "delete_cmd_postfix": "",
     "delete_cmd_prefix": "del ",
     "library": "var_list.py",
     "varRefreshCmd": "print(var_dic_list())"
    },
    "r": {
     "delete_cmd_postfix": ") ",
     "delete_cmd_prefix": "rm(",
     "library": "var_list.r",
     "varRefreshCmd": "cat(var_dic_list()) "
    }
   },
   "types_to_exclude": [
    "module",
    "function",
    "builtin_function_or_method",
    "instance",
    "_Feature"
   ],
   "window_display": false
  }
 },
 "nbformat": 4,
 "nbformat_minor": 2
}
